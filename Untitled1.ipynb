{
 "metadata": {
  "name": ""
 },
 "nbformat": 3,
 "nbformat_minor": 0,
 "worksheets": [
  {
   "cells": [
    {
     "cell_type": "code",
     "collapsed": false,
     "input": [
      "import numpy as np\n"
     ],
     "language": "python",
     "metadata": {},
     "outputs": [],
     "prompt_number": 1
    },
    {
     "cell_type": "code",
     "collapsed": false,
     "input": [
      "!head eng-hourly-08012013-08312013.csv"
     ],
     "language": "python",
     "metadata": {},
     "outputs": [
      {
       "output_type": "stream",
       "stream": "stdout",
       "text": [
        "\"Station Name\",\"VANCOUVER INTL A\"\r\n",
        "\"Province\",\"BRITISH COLUMBIA\"\r\n",
        "\"Latitude\",\"49.19\"\r\n",
        "\"Longitude\",\"-123.18\"\r\n",
        "\"Elevation\",\"4.30\"\r\n",
        "\"Climate Identifier\",\"1108395\"\r\n",
        "\"WMO Identifier\",\"71892\"\r\n",
        "\"TC Identifier\",\"YVR\"\r\n",
        "\"All times are specified in Local Standard Time (LST). Add 1 hour to adjust for Daylight Saving Time where and when it is observed.\"\r\n",
        "\r\n"
       ]
      }
     ],
     "prompt_number": 2
    },
    {
     "cell_type": "code",
     "collapsed": false,
     "input": [
      "data=np.genfromtxt('eng-hourly-08012013-08312013.csv', delimiter= '\",\"', skiprows=16, names=True)"
     ],
     "language": "python",
     "metadata": {},
     "outputs": [],
     "prompt_number": 15
    },
    {
     "cell_type": "code",
     "collapsed": false,
     "input": [
      "print data.dtype, '\\n'"
     ],
     "language": "python",
     "metadata": {},
     "outputs": [
      {
       "output_type": "stream",
       "stream": "stdout",
       "text": [
        "float64 \n",
        "\n"
       ]
      }
     ],
     "prompt_number": 10
    },
    {
     "cell_type": "code",
     "collapsed": false,
     "input": [
      "data.dtype"
     ],
     "language": "python",
     "metadata": {},
     "outputs": [
      {
       "metadata": {},
       "output_type": "pyout",
       "prompt_number": 16,
       "text": [
        "dtype([('DateTime', '<f8'), ('Year', '<f8'), ('Month', '<f8'), ('Day', '<f8'), ('Time', '<f8'), ('Data_Quality', '<f8'), ('Temp_\\xb0C', '<f8'), ('Temp_Flag', '<f8'), ('Dew_Point_Temp_\\xb0C', '<f8'), ('Dew_Point_Temp_Flag', '<f8'), ('Rel_Hum_', '<f8'), ('Rel_Hum_Flag', '<f8'), ('Wind_Dir_10s_deg', '<f8'), ('Wind_Dir_Flag', '<f8'), ('Wind_Spd_kmh', '<f8'), ('Wind_Spd_Flag', '<f8'), ('Visibility_km', '<f8'), ('Visibility_Flag', '<f8'), ('Stn_Press_kPa', '<f8'), ('Stn_Press_Flag', '<f8'), ('Hmdx', '<f8'), ('Hmdx_Flag', '<f8'), ('Wind_Chill', '<f8'), ('Wind_Chill_Flag', '<f8'), ('Weather', '<f8')])"
       ]
      }
     ],
     "prompt_number": 16
    },
    {
     "cell_type": "code",
     "collapsed": false,
     "input": [
      "data['Day']"
     ],
     "language": "python",
     "metadata": {},
     "outputs": [
      {
       "metadata": {},
       "output_type": "pyout",
       "prompt_number": 17,
       "text": [
        "array([  1.,   1.,   1.,   1.,   1.,   1.,   1.,   1.,   1.,   1.,   1.,\n",
        "         1.,   1.,   1.,   1.,   1.,   1.,   1.,   1.,   1.,   1.,   1.,\n",
        "         1.,   1.,   2.,   2.,   2.,   2.,   2.,   2.,   2.,   2.,   2.,\n",
        "         2.,   2.,   2.,   2.,   2.,   2.,   2.,   2.,   2.,   2.,   2.,\n",
        "         2.,   2.,   2.,   2.,   3.,   3.,   3.,   3.,   3.,   3.,   3.,\n",
        "         3.,   3.,   3.,   3.,   3.,   3.,   3.,   3.,   3.,   3.,   3.,\n",
        "         3.,   3.,   3.,   3.,   3.,   3.,   4.,   4.,   4.,   4.,   4.,\n",
        "         4.,   4.,   4.,   4.,   4.,   4.,   4.,   4.,   4.,   4.,   4.,\n",
        "         4.,   4.,   4.,   4.,   4.,   4.,   4.,   4.,   5.,   5.,   5.,\n",
        "         5.,   5.,   5.,   5.,   5.,   5.,   5.,   5.,   5.,   5.,   5.,\n",
        "         5.,   5.,   5.,   5.,   5.,   5.,   5.,   5.,   5.,   5.,   6.,\n",
        "         6.,   6.,   6.,   6.,   6.,   6.,   6.,   6.,   6.,   6.,   6.,\n",
        "         6.,   6.,   6.,   6.,   6.,   6.,   6.,   6.,   6.,   6.,   6.,\n",
        "         6.,   7.,   7.,   7.,   7.,   7.,   7.,   7.,   7.,   7.,   7.,\n",
        "         7.,   7.,   7.,   7.,   7.,   7.,   7.,   7.,   7.,   7.,   7.,\n",
        "         7.,   7.,   7.,   8.,   8.,   8.,   8.,   8.,   8.,   8.,   8.,\n",
        "         8.,   8.,   8.,   8.,   8.,   8.,   8.,   8.,   8.,   8.,   8.,\n",
        "         8.,   8.,   8.,   8.,   8.,   9.,   9.,   9.,   9.,   9.,   9.,\n",
        "         9.,   9.,   9.,   9.,   9.,   9.,   9.,   9.,   9.,   9.,   9.,\n",
        "         9.,   9.,   9.,   9.,   9.,   9.,   9.,  10.,  10.,  10.,  10.,\n",
        "        10.,  10.,  10.,  10.,  10.,  10.,  10.,  10.,  10.,  10.,  10.,\n",
        "        10.,  10.,  10.,  10.,  10.,  10.,  10.,  10.,  10.,  11.,  11.,\n",
        "        11.,  11.,  11.,  11.,  11.,  11.,  11.,  11.,  11.,  11.,  11.,\n",
        "        11.,  11.,  11.,  11.,  11.,  11.,  11.,  11.,  11.,  11.,  11.,\n",
        "        12.,  12.,  12.,  12.,  12.,  12.,  12.,  12.,  12.,  12.,  12.,\n",
        "        12.,  12.,  12.,  12.,  12.,  12.,  12.,  12.,  12.,  12.,  12.,\n",
        "        12.,  12.,  13.,  13.,  13.,  13.,  13.,  13.,  13.,  13.,  13.,\n",
        "        13.,  13.,  13.,  13.,  13.,  13.,  13.,  13.,  13.,  13.,  13.,\n",
        "        13.,  13.,  13.,  13.,  14.,  14.,  14.,  14.,  14.,  14.,  14.,\n",
        "        14.,  14.,  14.,  14.,  14.,  14.,  14.,  14.,  14.,  14.,  14.,\n",
        "        14.,  14.,  14.,  14.,  14.,  14.,  15.,  15.,  15.,  15.,  15.,\n",
        "        15.,  15.,  15.,  15.,  15.,  15.,  15.,  15.,  15.,  15.,  15.,\n",
        "        15.,  15.,  15.,  15.,  15.,  15.,  15.,  15.,  16.,  16.,  16.,\n",
        "        16.,  16.,  16.,  16.,  16.,  16.,  16.,  16.,  16.,  16.,  16.,\n",
        "        16.,  16.,  16.,  16.,  16.,  16.,  16.,  16.,  16.,  16.,  17.,\n",
        "        17.,  17.,  17.,  17.,  17.,  17.,  17.,  17.,  17.,  17.,  17.,\n",
        "        17.,  17.,  17.,  17.,  17.,  17.,  17.,  17.,  17.,  17.,  17.,\n",
        "        17.,  18.,  18.,  18.,  18.,  18.,  18.,  18.,  18.,  18.,  18.,\n",
        "        18.,  18.,  18.,  18.,  18.,  18.,  18.,  18.,  18.,  18.,  18.,\n",
        "        18.,  18.,  18.,  19.,  19.,  19.,  19.,  19.,  19.,  19.,  19.,\n",
        "        19.,  19.,  19.,  19.,  19.,  19.,  19.,  19.,  19.,  19.,  19.,\n",
        "        19.,  19.,  19.,  19.,  19.,  20.,  20.,  20.,  20.,  20.,  20.,\n",
        "        20.,  20.,  20.,  20.,  20.,  20.,  20.,  20.,  20.,  20.,  20.,\n",
        "        20.,  20.,  20.,  20.,  20.,  20.,  20.,  21.,  21.,  21.,  21.,\n",
        "        21.,  21.,  21.,  21.,  21.,  21.,  21.,  21.,  21.,  21.,  21.,\n",
        "        21.,  21.,  21.,  21.,  21.,  21.,  21.,  21.,  21.,  22.,  22.,\n",
        "        22.,  22.,  22.,  22.,  22.,  22.,  22.,  22.,  22.,  22.,  22.,\n",
        "        22.,  22.,  22.,  22.,  22.,  22.,  22.,  22.,  22.,  22.,  22.,\n",
        "        23.,  23.,  23.,  23.,  23.,  23.,  23.,  23.,  23.,  23.,  23.,\n",
        "        23.,  23.,  23.,  23.,  23.,  23.,  23.,  23.,  23.,  23.,  23.,\n",
        "        23.,  23.,  24.,  24.,  24.,  24.,  24.,  24.,  24.,  24.,  24.,\n",
        "        24.,  24.,  24.,  24.,  24.,  24.,  24.,  24.,  24.,  24.,  24.,\n",
        "        24.,  24.,  24.,  24.,  25.,  25.,  25.,  25.,  25.,  25.,  25.,\n",
        "        25.,  25.,  25.,  25.,  25.,  25.,  25.,  25.,  25.,  25.,  25.,\n",
        "        25.,  25.,  25.,  25.,  25.,  25.,  26.,  26.,  26.,  26.,  26.,\n",
        "        26.,  26.,  26.,  26.,  26.,  26.,  26.,  26.,  26.,  26.,  26.,\n",
        "        26.,  26.,  26.,  26.,  26.,  26.,  26.,  26.,  27.,  27.,  27.,\n",
        "        27.,  27.,  27.,  27.,  27.,  27.,  27.,  27.,  27.,  27.,  27.,\n",
        "        27.,  27.,  27.,  27.,  27.,  27.,  27.,  27.,  27.,  27.,  28.,\n",
        "        28.,  28.,  28.,  28.,  28.,  28.,  28.,  28.,  28.,  28.,  28.,\n",
        "        28.,  28.,  28.,  28.,  28.,  28.,  28.,  28.,  28.,  28.,  28.,\n",
        "        28.,  29.,  29.,  29.,  29.,  29.,  29.,  29.,  29.,  29.,  29.,\n",
        "        29.,  29.,  29.,  29.,  29.,  29.,  29.,  29.,  29.,  29.,  29.,\n",
        "        29.,  29.,  29.,  30.,  30.,  30.,  30.,  30.,  30.,  30.,  30.,\n",
        "        30.,  30.,  30.,  30.,  30.,  30.,  30.,  30.,  30.,  30.,  30.,\n",
        "        30.,  30.,  30.,  30.,  30.,  31.,  31.,  31.,  31.,  31.,  31.,\n",
        "        31.,  31.,  31.,  31.,  31.,  31.,  31.,  31.,  31.,  31.,  31.,\n",
        "        31.,  31.,  31.,  31.,  31.,  31.,  31.])"
       ]
      }
     ],
     "prompt_number": 17
    },
    {
     "cell_type": "code",
     "collapsed": false,
     "input": [
      "data(1)\n"
     ],
     "language": "python",
     "metadata": {},
     "outputs": [
      {
       "ename": "TypeError",
       "evalue": "'numpy.ndarray' object is not callable",
       "output_type": "pyerr",
       "traceback": [
        "\u001b[1;31m---------------------------------------------------------------------------\u001b[0m\n\u001b[1;31mTypeError\u001b[0m                                 Traceback (most recent call last)",
        "\u001b[1;32m<ipython-input-13-9948b3ddd5a7>\u001b[0m in \u001b[0;36m<module>\u001b[1;34m()\u001b[0m\n\u001b[1;32m----> 1\u001b[1;33m \u001b[0mdata\u001b[0m\u001b[1;33m(\u001b[0m\u001b[1;36m1\u001b[0m\u001b[1;33m)\u001b[0m\u001b[1;33m\u001b[0m\u001b[0m\n\u001b[0m",
        "\u001b[1;31mTypeError\u001b[0m: 'numpy.ndarray' object is not callable"
       ]
      }
     ],
     "prompt_number": 13
    },
    {
     "cell_type": "code",
     "collapsed": false,
     "input": [
      "data[1]"
     ],
     "language": "python",
     "metadata": {},
     "outputs": [
      {
       "metadata": {},
       "output_type": "pyout",
       "prompt_number": 14,
       "text": [
        "array([             nan,   2.01300000e+03,   8.00000000e+00,\n",
        "         1.00000000e+00,              nan,              nan,\n",
        "         1.87000000e+01,              nan,   1.46000000e+01,\n",
        "                    nan,   7.70000000e+01,              nan,\n",
        "         1.30000000e+01,              nan,   3.00000000e+00,\n",
        "                    nan,   3.22000000e+01,              nan,\n",
        "         1.01600000e+02,              nan,              nan,\n",
        "                    nan,              nan,              nan,\n",
        "                    nan])"
       ]
      }
     ],
     "prompt_number": 14
    },
    {
     "cell_type": "code",
     "collapsed": false,
     "input": [
      "def fix_dtype(dtype):\n",
      "\n",
      "    \"\"\" Create a corrected dtype sequence from and auto-generated one.\"\n",
      "    \"\"\"\n",
      "\n",
      "    new_dtype = []\n",
      "\n",
      "    for name, cdtype in dtype.descr:\n",
      "        int_cols=('Year','Month','day')\n",
      "        if name in int_cols:\n",
      "            cdtype=np.int\n",
      "            new_dtype.append((name,cdtype))\n",
      "    return new_dtype"
     ],
     "language": "python",
     "metadata": {},
     "outputs": [],
     "prompt_number": 32
    },
    {
     "cell_type": "code",
     "collapsed": false,
     "input": [
      "def read_climate_file(filename):\n",
      "    \"\"\" Read an Env Canada climate data CSV file and return its data.\"\"\"\n",
      "    \n",
      "    data=np.genfromtxt(filename, delimiter='\",\"',skiprows=15,names=True)\n",
      "    new_dtype=fix_dtype(data.dtype)\n",
      "    data=np.genfromtxt(filename, delimeter='\",\"', skiprows=16,dtype=new_dtype)\n",
      "    return data\n",
      "    !tail -1 eng-hourly-08012013-08312013.csv\n",
      "    print\n",
      "    data=read_climate_file('eng-hourly-08012013-08312013.csv')\n",
      "    data[0]\n",
      "    data[-1]\n",
      "    print\n",
      "    for x in data.dtype.descr:\n",
      "        print x "
     ],
     "language": "python",
     "metadata": {},
     "outputs": [],
     "prompt_number": 35
    },
    {
     "cell_type": "code",
     "collapsed": false,
     "input": [],
     "language": "python",
     "metadata": {},
     "outputs": []
    }
   ],
   "metadata": {}
  }
 ]
}